{
 "cells": [
  {
   "cell_type": "markdown",
   "id": "eceb51c6-cc5a-4eb5-8e4b-79ee5cc91a6d",
   "metadata": {},
   "source": [
    "# Data Structures Assignment"
   ]
  },
  {
   "cell_type": "markdown",
   "id": "3f0a83b2-5a72-44be-abc3-311a51ef0a55",
   "metadata": {},
   "source": [
    "Q1. How do you comment code in Python? What are the different types of comments?\n",
    "\n",
    "We use the hash symbol (#) to comment out code in Python.Comments are useful for adding explanations or temporarily disabling parts of your code.\n",
    "There are two types of comments in Python:\n",
    "1. Single-line Comment : Just add the # symbol at the beginning of the line and write your explanation.\n",
    "2. Multiline Comment : \n",
    "   \n",
    "   Multiple single-line comments: Simply add the # symbol to the beginning of each line you want to comment.\n",
    "   \n",
    "   Triple-quoted strings: Use three single (''') or double (\"\"\") quotes to enclose your comment."
   ]
  },
  {
   "cell_type": "code",
   "execution_count": 1,
   "id": "f1dfba27-f015-4884-9b2e-522123403dcf",
   "metadata": {},
   "outputs": [
    {
     "data": {
      "text/plain": [
       "'This is a multiline comment \\n using triple-quoted strings'"
      ]
     },
     "execution_count": 1,
     "metadata": {},
     "output_type": "execute_result"
    }
   ],
   "source": [
    "#Examples Single-line Comment :\n",
    "\n",
    "# This is a single-line comment\n",
    "\n",
    "#Example Multi-line Comment :\n",
    "#Using multiple # symbols:\n",
    "\n",
    "#This is a\n",
    "# multiline comment\n",
    "\n",
    "#Using triple-quoted strings: \n",
    "\n",
    "'''This is a multiline comment \n",
    " using triple-quoted strings'''"
   ]
  },
  {
   "cell_type": "markdown",
   "id": "42617527-8e65-409f-ac50-24b0da65e8b3",
   "metadata": {},
   "source": [
    "Q2. What are variables in Python? How do you declare and assign values to variables?\n",
    "\n",
    "Answer : In Python, variables are like boxes labeled with data names for storing data. We will use them to put specific data that we will need during the entire length of the program.\n",
    "        \n",
    "        Declaring a variable: simply assign a value to a name, and that name becomes the variable!\n",
    "        \n",
    "        Assigning values: To assign a value, use the equal sign (=) followed by the value you want to store.\n"
   ]
  },
  {
   "cell_type": "code",
   "execution_count": 2,
   "id": "5ec3baee-e307-4666-9e90-5679eaafa20f",
   "metadata": {},
   "outputs": [
    {
     "name": "stdout",
     "output_type": "stream",
     "text": [
      "Data Science\n"
     ]
    }
   ],
   "source": [
    "# For example:\n",
    "test = \"Data Science\" #Assigning a string value to variable named 'test'\n",
    "print(test)\n",
    "\n"
   ]
  },
  {
   "cell_type": "markdown",
   "id": "eda9caad-2eac-4e91-a686-35cf4ad5240a",
   "metadata": {},
   "source": [
    "Q3. How do you convert one data type to another in Python?\n",
    "\n",
    "Answer : Python offers built-in functions to convert between different one data type to another. such as int() , float() , str()..."
   ]
  },
  {
   "cell_type": "code",
   "execution_count": 3,
   "id": "e28d403c-cedc-4a11-ad0f-878b654e9ca1",
   "metadata": {},
   "outputs": [],
   "source": [
    "#Example :\n",
    "age_str = \"30\"  # String representing age\n",
    "age_int = int(age_str)  # Convert age_str to integer (age_int = 30)\n"
   ]
  },
  {
   "cell_type": "markdown",
   "id": "5aef043d-adc3-4e18-9d99-1e6cbf77f45d",
   "metadata": {},
   "source": [
    "Q4. How do you write and execute a Python script from the command line?\n",
    "\n",
    "Answer : To execute a Python script from the command line , we use the following steps :\n",
    "\n",
    "         1.Open your terminal or command prompt.\n",
    "         \n",
    "         2.Navigate to the directory where your Python script is saved using the cd command. For example, cd Desktop.\n",
    "         \n",
    "         3.Type python followed by the filename of your script (including the .py extension). For example, python hello.py.\n",
    "         \n",
    "         4.Press Enter and your script will execute!"
   ]
  },
  {
   "cell_type": "markdown",
   "id": "0488d91f-ebff-48bb-966c-bb4c0f91ca5c",
   "metadata": {},
   "source": [
    "Q5. Given a list my_list = [1, 2, 3, 4, 5], write the code to slice the list and obtain the sub-list [2, 3].\n"
   ]
  },
  {
   "cell_type": "code",
   "execution_count": 4,
   "id": "79dcc904-0cd7-4900-b0fc-9975b270d2b1",
   "metadata": {},
   "outputs": [
    {
     "name": "stdout",
     "output_type": "stream",
     "text": [
      "[2, 3]\n"
     ]
    }
   ],
   "source": [
    "#Answer \n",
    "my_list = [1, 2, 3, 4, 5]\n",
    "\n",
    "# Slicing the list to get sub-list [2, 3]\n",
    "sub_list = my_list[1:3]\n",
    "\n",
    "print(sub_list)\n"
   ]
  },
  {
   "cell_type": "markdown",
   "id": "40f8b348-da47-4efa-9b5f-5dc3d12a7b66",
   "metadata": {},
   "source": [
    "Q6. What is a complex number in mathematics, and how is it represented in Python?\n",
    "\n",
    "Answer : Mathematically, a complex number is a term for a number that is the sum of a real number and an imaginary number. An imaginary number is denoted by symbol i,\n",
    "         which is square root of -1.\n",
    "         \n",
    "         In Python, complex numbers are represented using the built-in complex function. You can create a complex number by calling complex(real_part, imaginary_part)"
   ]
  },
  {
   "cell_type": "code",
   "execution_count": 5,
   "id": "842fbe35-012f-4a78-be3e-1c96b4ef6188",
   "metadata": {},
   "outputs": [
    {
     "name": "stdout",
     "output_type": "stream",
     "text": [
      "(3+2j)\n"
     ]
    }
   ],
   "source": [
    "#Example :\n",
    "\n",
    "z = complex(3, 2)  # Creates a complex number with real part 3 and imaginary part 2\n",
    "print(z)\n",
    "\n",
    "#Python uses j instead of i to represent the imaginary unit."
   ]
  },
  {
   "cell_type": "markdown",
   "id": "c3846bbd-eabf-4dbf-9821-52977edf9e50",
   "metadata": {},
   "source": [
    "Q7. What is the correct way to declare a variable named age and assign the value 25 to it?\n"
   ]
  },
  {
   "cell_type": "code",
   "execution_count": 6,
   "id": "7dce600d-1e7b-4374-abe0-11dcea0463db",
   "metadata": {},
   "outputs": [],
   "source": [
    "#Simply declare the variable age and assign the value 25 to it\n",
    "\n",
    "age = 25\n"
   ]
  },
  {
   "cell_type": "markdown",
   "id": "9bd10f9c-95c7-44f3-89fd-44f835c8da5e",
   "metadata": {},
   "source": [
    "Q8. Declare a variable named price and assign the value 9.99 to it. What data type does this variable \n",
    "belong to?"
   ]
  },
  {
   "cell_type": "code",
   "execution_count": 18,
   "id": "45b80363-9835-4f0b-8b8a-5a13472f1030",
   "metadata": {},
   "outputs": [
    {
     "name": "stdout",
     "output_type": "stream",
     "text": [
      "<class 'float'>\n"
     ]
    }
   ],
   "source": [
    "# Declaring a variable named 'price' and assigning the value 9.99\n",
    "price = 9.99\n",
    "\n",
    "# Printing the data type of the variable 'price'\n",
    "print(type(price))\n",
    "\n",
    "#this varibale will belong to float data type."
   ]
  },
  {
   "cell_type": "markdown",
   "id": "f7a3c888-d357-4d5b-901f-3e1268cae460",
   "metadata": {},
   "source": [
    "Q9. Create a variable named name and assign your full name to it as a string. How would you print the \n",
    "value of this variable?"
   ]
  },
  {
   "cell_type": "code",
   "execution_count": 19,
   "id": "415883e3-7c90-4777-8fdb-98596256c5a8",
   "metadata": {},
   "outputs": [
    {
     "name": "stdout",
     "output_type": "stream",
     "text": [
      "Ravindra Singh Adhikari\n"
     ]
    }
   ],
   "source": [
    "# Assigning full name \n",
    "name = \"Ravindra Singh Adhikari\"\n",
    "\n",
    "# Printing the value of the variable 'name'\n",
    "print(name)\n"
   ]
  },
  {
   "cell_type": "markdown",
   "id": "66d49326-8c67-4861-8031-500ce506e980",
   "metadata": {},
   "source": [
    "Q10. Given the string \"Hello, World!\", extract the substring \"World\"."
   ]
  },
  {
   "cell_type": "code",
   "execution_count": 21,
   "id": "08c910c3-6e94-444a-9154-9fd71b8e128c",
   "metadata": {},
   "outputs": [
    {
     "name": "stdout",
     "output_type": "stream",
     "text": [
      "World\n"
     ]
    }
   ],
   "source": [
    "text = \"Hello, World!\"\n",
    "\n",
    "# Extracting the substring \"World\" using slicing\n",
    "substring = text[7:12]\n",
    "\n",
    "# Printing the extracted substring\n",
    "print(substring)\n"
   ]
  },
  {
   "cell_type": "markdown",
   "id": "5457c419-9d0d-439f-b218-dac57aede5e3",
   "metadata": {},
   "source": [
    "Q11. Create a variable named \"is_student\" and assign it a boolean value indicating whether you are \n",
    "currently a student or not"
   ]
  },
  {
   "cell_type": "code",
   "execution_count": 22,
   "id": "ab6330ba-45e9-40c2-87ec-4f0c7dfaee88",
   "metadata": {},
   "outputs": [
    {
     "name": "stdout",
     "output_type": "stream",
     "text": [
      "True\n"
     ]
    }
   ],
   "source": [
    "is_student = True #creating variable and assigning value\n",
    "print(is_student)\n"
   ]
  },
  {
   "cell_type": "code",
   "execution_count": null,
   "id": "8b23486f-180d-4b13-adcc-e1340da10190",
   "metadata": {},
   "outputs": [],
   "source": []
  }
 ],
 "metadata": {
  "kernelspec": {
   "display_name": "Python 3 (ipykernel)",
   "language": "python",
   "name": "python3"
  },
  "language_info": {
   "codemirror_mode": {
    "name": "ipython",
    "version": 3
   },
   "file_extension": ".py",
   "mimetype": "text/x-python",
   "name": "python",
   "nbconvert_exporter": "python",
   "pygments_lexer": "ipython3",
   "version": "3.10.8"
  }
 },
 "nbformat": 4,
 "nbformat_minor": 5
}
