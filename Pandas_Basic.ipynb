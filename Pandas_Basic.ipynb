{
 "cells": [
  {
   "cell_type": "markdown",
   "id": "66a5169e-8d1c-4cfb-ae29-77e034e6ee1b",
   "metadata": {},
   "source": [
    "Pandas Basic Assignment"
   ]
  },
  {
   "cell_type": "code",
   "execution_count": 1,
   "id": "e26e1145-d6be-4d0c-bad3-df006402f1fe",
   "metadata": {},
   "outputs": [],
   "source": [
    "import pandas as pd"
   ]
  },
  {
   "cell_type": "markdown",
   "id": "bec2bf5c-640f-45e4-b69b-26507ddbfac6",
   "metadata": {},
   "source": [
    "Q1. Create a Pandas Series that contains the following data: 4, 8, 15, 16, 23, and 42. Then, print the series."
   ]
  },
  {
   "cell_type": "code",
   "execution_count": 2,
   "id": "5c7cbec6-9f92-4a58-a704-9e350273a43e",
   "metadata": {},
   "outputs": [
    {
     "name": "stdout",
     "output_type": "stream",
     "text": [
      "0     4\n",
      "1     8\n",
      "2    15\n",
      "3    16\n",
      "4    23\n",
      "5    42\n",
      "dtype: int64\n"
     ]
    }
   ],
   "source": [
    "data  = pd.Series([4,8,15,16,23,42])\n",
    "print(data)"
   ]
  },
  {
   "cell_type": "markdown",
   "id": "fa86d4ac-5361-40c8-a642-ea160112cb3f",
   "metadata": {},
   "source": [
    "Q2. Create a variable of list type containing 10 elements in it, and apply pandas.Series function on the\n",
    "variable print it."
   ]
  },
  {
   "cell_type": "code",
   "execution_count": 3,
   "id": "fc1f7afc-8934-436a-bc09-a7498bcad78a",
   "metadata": {},
   "outputs": [
    {
     "name": "stdout",
     "output_type": "stream",
     "text": [
      "0     2\n",
      "1     3\n",
      "2     5\n",
      "3    67\n",
      "4    34\n",
      "5    38\n",
      "6     9\n",
      "7     8\n",
      "8    67\n",
      "9    99\n",
      "dtype: int64\n"
     ]
    }
   ],
   "source": [
    "data1 = [2,3,5,67,34,38,9,8,67,99] #list type variable\n",
    "df =pd.Series(data1) #creating series\n",
    "print(df)"
   ]
  },
  {
   "cell_type": "markdown",
   "id": "536c4bfa-15c9-4a5b-9eca-6b5a82a6bfb5",
   "metadata": {},
   "source": [
    "Q3. Create a Pandas DataFrame with following data and print it : \n",
    "#Name :Alice, Bob, Claire\n",
    "#Age :25 ,    30  , 27\n",
    "#Gender:Female, Male, Female"
   ]
  },
  {
   "cell_type": "code",
   "execution_count": 4,
   "id": "fbfdec77-d826-4f6f-bf48-bfc8c6be8df0",
   "metadata": {},
   "outputs": [
    {
     "name": "stdout",
     "output_type": "stream",
     "text": [
      "     Name  Age  Gender\n",
      "0   Alice   25  Female\n",
      "1     Bob   30    Male\n",
      "2  Claire   27  Female\n"
     ]
    }
   ],
   "source": [
    "df = pd.DataFrame({\n",
    "    'Name' : ['Alice', 'Bob' , 'Claire'],\n",
    "    'Age' : [25 ,30 ,27],\n",
    "    'Gender' : ['Female' , 'Male' , 'Female']\n",
    "})\n",
    "print(df)"
   ]
  },
  {
   "cell_type": "markdown",
   "id": "39d9a35d-298c-4048-960b-73afca834e0d",
   "metadata": {},
   "source": [
    "Q4. What is ‘DataFrame’ in pandas and how is it different from pandas.series? Explain with an example."
   ]
  },
  {
   "cell_type": "code",
   "execution_count": 5,
   "id": "03858328-d8eb-40d9-8da6-7392009ddde8",
   "metadata": {},
   "outputs": [],
   "source": [
    "# Answer::  DataFrame: In pandas dataframe is a two-dimensional labeled data structure with rows and columns. \n",
    "\n",
    "# It differs from series in dimensionality as series represents a one-dimensional labeled array whereas a dataframe represents a two-dimensional,\n",
    "# labeled data structure with rows and columns.DataFrames can hold various data types within their columns whereas series can hold a single data type."
   ]
  },
  {
   "cell_type": "code",
   "execution_count": 7,
   "id": "aa8e6e92-22d5-4853-84aa-42f6ecfaceb1",
   "metadata": {},
   "outputs": [
    {
     "name": "stdout",
     "output_type": "stream",
     "text": [
      "DataFrame:\n",
      "      Name  Age  Gender\n",
      "0   Alice   25  Female\n",
      "1     Bob   30    Male\n",
      "2  Claire   27  Female\n",
      "\n",
      "Series:\n",
      " 0     Alice\n",
      "1       Bob\n",
      "2    Claire\n",
      "Name: Name, dtype: object\n"
     ]
    }
   ],
   "source": [
    "#Example : \n",
    "\n",
    "# Creating a DataFrame\n",
    "data = {\n",
    "    \"Name\": [\"Alice\", \"Bob\", \"Claire\"],\n",
    "    \"Age\": [25, 30, 27],\n",
    "    \"Gender\": [\"Female\", \"Male\", \"Female\"]\n",
    "}\n",
    "\n",
    "df = pd.DataFrame(data)\n",
    "\n",
    "# Creating a Series\n",
    "name_series = df[\"Name\"]\n",
    "\n",
    "print(\"DataFrame:\\n\", df)\n",
    "print(\"\\nSeries:\\n\", name_series)"
   ]
  },
  {
   "cell_type": "markdown",
   "id": "bc9e6fed-71f6-424d-aa00-7f03f96f97c4",
   "metadata": {},
   "source": [
    "Q5. What are some common functions you can use to manipulate data in a Pandas DataFrame? Can\n",
    "you give an example of when you might use one of these functions?"
   ]
  },
  {
   "cell_type": "code",
   "execution_count": 8,
   "id": "7f997153-69d9-4e3b-920c-1d3f4fe50948",
   "metadata": {},
   "outputs": [
    {
     "data": {
      "text/html": [
       "<div>\n",
       "<style scoped>\n",
       "    .dataframe tbody tr th:only-of-type {\n",
       "        vertical-align: middle;\n",
       "    }\n",
       "\n",
       "    .dataframe tbody tr th {\n",
       "        vertical-align: top;\n",
       "    }\n",
       "\n",
       "    .dataframe thead th {\n",
       "        text-align: right;\n",
       "    }\n",
       "</style>\n",
       "<table border=\"1\" class=\"dataframe\">\n",
       "  <thead>\n",
       "    <tr style=\"text-align: right;\">\n",
       "      <th></th>\n",
       "      <th>Name</th>\n",
       "      <th>Age</th>\n",
       "      <th>Gender</th>\n",
       "    </tr>\n",
       "  </thead>\n",
       "  <tbody>\n",
       "    <tr>\n",
       "      <th>0</th>\n",
       "      <td>Alice</td>\n",
       "      <td>25</td>\n",
       "      <td>Female</td>\n",
       "    </tr>\n",
       "    <tr>\n",
       "      <th>1</th>\n",
       "      <td>Bob</td>\n",
       "      <td>30</td>\n",
       "      <td>Male</td>\n",
       "    </tr>\n",
       "  </tbody>\n",
       "</table>\n",
       "</div>"
      ],
      "text/plain": [
       "    Name  Age  Gender\n",
       "0  Alice   25  Female\n",
       "1    Bob   30    Male"
      ]
     },
     "execution_count": 8,
     "metadata": {},
     "output_type": "execute_result"
    }
   ],
   "source": [
    "# Answer: Some common functions that can be used to manipulate data in a Pandas Dataframe are : \n",
    "    \n",
    "#1. .head(n) : Returns the first n rows of the DataFrame , the default value of n is 5 .\n",
    "#Example: \n",
    "df.head(2)"
   ]
  },
  {
   "cell_type": "code",
   "execution_count": 9,
   "id": "09910a78-b3d7-42db-a83b-069f46105e8d",
   "metadata": {},
   "outputs": [
    {
     "data": {
      "text/plain": [
       "Gender\n",
       "Female    26.0\n",
       "Male      30.0\n",
       "Name: Age, dtype: float64"
      ]
     },
     "execution_count": 9,
     "metadata": {},
     "output_type": "execute_result"
    }
   ],
   "source": [
    "# 2. .groupby(by): Groups rows based on one or more columns, allowing calculations like sum(), mean(), count(), etc., on each group.\n",
    "#Example : \n",
    "df.groupby('Gender')['Age'].mean()"
   ]
  },
  {
   "cell_type": "code",
   "execution_count": 10,
   "id": "9127615e-9c3d-4cac-a2fa-40f2d315b6dc",
   "metadata": {},
   "outputs": [
    {
     "data": {
      "text/html": [
       "<div>\n",
       "<style scoped>\n",
       "    .dataframe tbody tr th:only-of-type {\n",
       "        vertical-align: middle;\n",
       "    }\n",
       "\n",
       "    .dataframe tbody tr th {\n",
       "        vertical-align: top;\n",
       "    }\n",
       "\n",
       "    .dataframe thead th {\n",
       "        text-align: right;\n",
       "    }\n",
       "</style>\n",
       "<table border=\"1\" class=\"dataframe\">\n",
       "  <thead>\n",
       "    <tr style=\"text-align: right;\">\n",
       "      <th></th>\n",
       "      <th>Name</th>\n",
       "      <th>Age</th>\n",
       "      <th>Gender</th>\n",
       "    </tr>\n",
       "  </thead>\n",
       "  <tbody>\n",
       "    <tr>\n",
       "      <th>0</th>\n",
       "      <td>Alice</td>\n",
       "      <td>25</td>\n",
       "      <td>Female</td>\n",
       "    </tr>\n",
       "    <tr>\n",
       "      <th>1</th>\n",
       "      <td>Bob</td>\n",
       "      <td>30</td>\n",
       "      <td>Male</td>\n",
       "    </tr>\n",
       "  </tbody>\n",
       "</table>\n",
       "</div>"
      ],
      "text/plain": [
       "    Name  Age  Gender\n",
       "0  Alice   25  Female\n",
       "1    Bob   30    Male"
      ]
     },
     "execution_count": 10,
     "metadata": {},
     "output_type": "execute_result"
    }
   ],
   "source": [
    "#3. .iloc[]: Selects rows and columns based on positional indexes. Useful for selecting data by integer position.\n",
    "#Example: \n",
    "df.iloc[:2]"
   ]
  },
  {
   "cell_type": "code",
   "execution_count": 11,
   "id": "97fc19af-5fee-4c67-abcf-844641735035",
   "metadata": {},
   "outputs": [
    {
     "data": {
      "text/html": [
       "<div>\n",
       "<style scoped>\n",
       "    .dataframe tbody tr th:only-of-type {\n",
       "        vertical-align: middle;\n",
       "    }\n",
       "\n",
       "    .dataframe tbody tr th {\n",
       "        vertical-align: top;\n",
       "    }\n",
       "\n",
       "    .dataframe thead th {\n",
       "        text-align: right;\n",
       "    }\n",
       "</style>\n",
       "<table border=\"1\" class=\"dataframe\">\n",
       "  <thead>\n",
       "    <tr style=\"text-align: right;\">\n",
       "      <th></th>\n",
       "      <th>Name</th>\n",
       "      <th>Age</th>\n",
       "      <th>Gender</th>\n",
       "    </tr>\n",
       "  </thead>\n",
       "  <tbody>\n",
       "    <tr>\n",
       "      <th>1</th>\n",
       "      <td>Bob</td>\n",
       "      <td>30</td>\n",
       "      <td>Male</td>\n",
       "    </tr>\n",
       "    <tr>\n",
       "      <th>2</th>\n",
       "      <td>Claire</td>\n",
       "      <td>27</td>\n",
       "      <td>Female</td>\n",
       "    </tr>\n",
       "  </tbody>\n",
       "</table>\n",
       "</div>"
      ],
      "text/plain": [
       "     Name  Age  Gender\n",
       "1     Bob   30    Male\n",
       "2  Claire   27  Female"
      ]
     },
     "execution_count": 11,
     "metadata": {},
     "output_type": "execute_result"
    }
   ],
   "source": [
    "#4. .tail(n): Returns the last n rows of the DataFrame\n",
    "#Example: \n",
    "df.tail(2)"
   ]
  },
  {
   "cell_type": "markdown",
   "id": "f2207f93-c036-47d3-977b-a802e4f14575",
   "metadata": {},
   "source": [
    "Q6. Which of the following is mutable in nature Series, DataFrame, Panel?"
   ]
  },
  {
   "cell_type": "markdown",
   "id": "06d8769e-fd54-488c-b2b0-4ebb6d30336d",
   "metadata": {},
   "source": [
    "Answer : DataFrame and Panel in pandas are mutable while Series in pandas is value mutable i.e. you can change the value of elements within the series but the number of elements cannot be added or removed that means series is not size mutable in pandas."
   ]
  },
  {
   "cell_type": "markdown",
   "id": "88f5f9f8-07a3-42e5-ae66-fa4367959a5a",
   "metadata": {},
   "source": [
    "Q7. Create a DataFrame using multiple Series. Explain with an example."
   ]
  },
  {
   "cell_type": "code",
   "execution_count": 12,
   "id": "e9d52fec-3a2f-4385-a48c-8f05b06a0165",
   "metadata": {},
   "outputs": [
    {
     "name": "stdout",
     "output_type": "stream",
     "text": [
      "     Name  Age  Gender\n",
      "0   Alice   25  Female\n",
      "1     Bob   30    Male\n",
      "2  Claire   27  Female\n"
     ]
    }
   ],
   "source": [
    "# Creating three Series\n",
    "name_series = pd.Series([\"Alice\", \"Bob\", \"Claire\"])\n",
    "age_series = pd.Series([25, 30, 27])\n",
    "gender_series = pd.Series([\"Female\", \"Male\", \"Female\"])\n",
    "\n",
    "# dictionary with Series as values\n",
    "data = {\n",
    "    \"Name\": name_series,\n",
    "    \"Age\": age_series,\n",
    "    \"Gender\": gender_series\n",
    "}\n",
    "\n",
    "\n",
    "df = pd.DataFrame(data)\n",
    "\n",
    "print(df)\n"
   ]
  },
  {
   "cell_type": "code",
   "execution_count": null,
   "id": "eb0d998a-0cfa-4944-8c75-45526c4eadab",
   "metadata": {},
   "outputs": [],
   "source": []
  }
 ],
 "metadata": {
  "kernelspec": {
   "display_name": "Python 3 (ipykernel)",
   "language": "python",
   "name": "python3"
  },
  "language_info": {
   "codemirror_mode": {
    "name": "ipython",
    "version": 3
   },
   "file_extension": ".py",
   "mimetype": "text/x-python",
   "name": "python",
   "nbconvert_exporter": "python",
   "pygments_lexer": "ipython3",
   "version": "3.10.8"
  }
 },
 "nbformat": 4,
 "nbformat_minor": 5
}
