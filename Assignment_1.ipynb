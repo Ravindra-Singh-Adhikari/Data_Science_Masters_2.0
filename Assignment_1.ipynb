{
 "cells": [
  {
   "cell_type": "code",
   "execution_count": 8,
   "id": "542c3121-ac91-42ed-8a70-fd892a58e278",
   "metadata": {},
   "outputs": [],
   "source": [
    "#Q1. Create one variable containing following type of data:"
   ]
  },
  {
   "cell_type": "code",
   "execution_count": 9,
   "id": "129c04de-1e2b-4430-9b3b-f91ebd31cebd",
   "metadata": {},
   "outputs": [],
   "source": [
    "#(i) string"
   ]
  },
  {
   "cell_type": "code",
   "execution_count": 10,
   "id": "1d09ea26-b11b-4163-a626-18f55f1601ee",
   "metadata": {},
   "outputs": [],
   "source": [
    "a=\"Hello World\""
   ]
  },
  {
   "cell_type": "code",
   "execution_count": 11,
   "id": "86d5509e-b94a-404a-87dc-9ab7c6f8911b",
   "metadata": {},
   "outputs": [
    {
     "data": {
      "text/plain": [
       "str"
      ]
     },
     "execution_count": 11,
     "metadata": {},
     "output_type": "execute_result"
    }
   ],
   "source": [
    "type(a)"
   ]
  },
  {
   "cell_type": "code",
   "execution_count": 12,
   "id": "fdb17a4e-deed-403a-9617-57177812c8d1",
   "metadata": {},
   "outputs": [],
   "source": [
    "#(ii) list"
   ]
  },
  {
   "cell_type": "code",
   "execution_count": 13,
   "id": "9be22531-589d-4150-8b42-525ab828470e",
   "metadata": {},
   "outputs": [],
   "source": [
    "b=[\"Harry Potter\", 2 , 9.00 , True , \"Ronald\"]"
   ]
  },
  {
   "cell_type": "code",
   "execution_count": 14,
   "id": "f850f62e-be01-40c2-88a7-291755a0d23b",
   "metadata": {},
   "outputs": [
    {
     "data": {
      "text/plain": [
       "list"
      ]
     },
     "execution_count": 14,
     "metadata": {},
     "output_type": "execute_result"
    }
   ],
   "source": [
    "type(b)"
   ]
  },
  {
   "cell_type": "code",
   "execution_count": 15,
   "id": "9723a5b5-c72c-4889-ba7c-1ddc3379c83a",
   "metadata": {},
   "outputs": [],
   "source": [
    "#(iii) float "
   ]
  },
  {
   "cell_type": "code",
   "execution_count": 16,
   "id": "af638eb8-2ab2-4565-a921-9258245b79ed",
   "metadata": {},
   "outputs": [],
   "source": [
    "b = 3.14159265359"
   ]
  },
  {
   "cell_type": "code",
   "execution_count": 17,
   "id": "158b8f14-f834-4a6e-ac2e-ebb8895629c4",
   "metadata": {},
   "outputs": [
    {
     "data": {
      "text/plain": [
       "float"
      ]
     },
     "execution_count": 17,
     "metadata": {},
     "output_type": "execute_result"
    }
   ],
   "source": [
    "type(b)"
   ]
  },
  {
   "cell_type": "code",
   "execution_count": null,
   "id": "7074ac37-7a0b-42e8-abcb-a1aafa70a34a",
   "metadata": {},
   "outputs": [],
   "source": [
    "#(iv) tuple "
   ]
  },
  {
   "cell_type": "code",
   "execution_count": 18,
   "id": "940020e6-0894-4430-833d-a95d4e95cc61",
   "metadata": {},
   "outputs": [],
   "source": [
    "c = (3.1415, 'boa', 2, True)"
   ]
  },
  {
   "cell_type": "code",
   "execution_count": 19,
   "id": "acebc015-688b-43e7-94f9-c046d82be69e",
   "metadata": {},
   "outputs": [
    {
     "data": {
      "text/plain": [
       "tuple"
      ]
     },
     "execution_count": 19,
     "metadata": {},
     "output_type": "execute_result"
    }
   ],
   "source": [
    "type(c)"
   ]
  },
  {
   "cell_type": "code",
   "execution_count": 20,
   "id": "335897b0-7f30-4a44-a821-f6ab3bfc1e2f",
   "metadata": {},
   "outputs": [],
   "source": [
    "#Q2.What will be the data type of the above given variable."
   ]
  },
  {
   "cell_type": "code",
   "execution_count": 24,
   "id": "1193de9f-dbf2-4d85-af98-10cdd113114f",
   "metadata": {},
   "outputs": [],
   "source": [
    "var1 = ''"
   ]
  },
  {
   "cell_type": "code",
   "execution_count": 25,
   "id": "bb6d56de-bfe7-4db2-87c4-16a1ada67ada",
   "metadata": {},
   "outputs": [
    {
     "data": {
      "text/plain": [
       "str"
      ]
     },
     "execution_count": 25,
     "metadata": {},
     "output_type": "execute_result"
    }
   ],
   "source": [
    "type(var1)"
   ]
  },
  {
   "cell_type": "code",
   "execution_count": 26,
   "id": "cbbb0198-62dc-425e-acaf-1946aa10396d",
   "metadata": {},
   "outputs": [],
   "source": [
    " var2 = '[ DS , ML , Python]' "
   ]
  },
  {
   "cell_type": "code",
   "execution_count": 27,
   "id": "0c8d8219-9649-4a24-913a-31f4c4f015e4",
   "metadata": {},
   "outputs": [
    {
     "data": {
      "text/plain": [
       "str"
      ]
     },
     "execution_count": 27,
     "metadata": {},
     "output_type": "execute_result"
    }
   ],
   "source": [
    "type(var2)"
   ]
  },
  {
   "cell_type": "code",
   "execution_count": 28,
   "id": "4a7178a6-5d43-4caa-8b5e-66a163a1e4ab",
   "metadata": {},
   "outputs": [],
   "source": [
    "var3 = [ 'DS' , 'ML' , 'Python' ] "
   ]
  },
  {
   "cell_type": "code",
   "execution_count": 29,
   "id": "75033de2-b87d-4711-ac83-bb18c58963b7",
   "metadata": {},
   "outputs": [
    {
     "data": {
      "text/plain": [
       "list"
      ]
     },
     "execution_count": 29,
     "metadata": {},
     "output_type": "execute_result"
    }
   ],
   "source": [
    "type(var3)"
   ]
  },
  {
   "cell_type": "code",
   "execution_count": 31,
   "id": "cfc15e4e-b922-4c8a-a492-baf6e8819184",
   "metadata": {},
   "outputs": [],
   "source": [
    "var4 = 1."
   ]
  },
  {
   "cell_type": "code",
   "execution_count": 32,
   "id": "91410753-c483-46e9-8248-3bc68a77b038",
   "metadata": {},
   "outputs": [
    {
     "data": {
      "text/plain": [
       "float"
      ]
     },
     "execution_count": 32,
     "metadata": {},
     "output_type": "execute_result"
    }
   ],
   "source": [
    "type(var4)"
   ]
  },
  {
   "cell_type": "code",
   "execution_count": 33,
   "id": "af3f7d07-08cd-406e-8624-abada765e9a0",
   "metadata": {},
   "outputs": [],
   "source": [
    "#Q3. Explain the use of the following operators using an example: "
   ]
  },
  {
   "cell_type": "code",
   "execution_count": 35,
   "id": "33b836f1-6fa7-45b8-b2fc-45ebc70d71ba",
   "metadata": {},
   "outputs": [
    {
     "data": {
      "text/plain": [
       "3.0"
      ]
     },
     "execution_count": 35,
     "metadata": {},
     "output_type": "execute_result"
    }
   ],
   "source": [
    "#(i) /  :  '/' in python is an airthmetic operator and is used for division or normal division of two variables , for example :\n",
    "x=15 \n",
    "y=5\n",
    "#using operator '/' on the two variables: \n",
    "x/y\n",
    "# the result will be  the divison of the two variables mentioned above"
   ]
  },
  {
   "cell_type": "code",
   "execution_count": 37,
   "id": "3b23ee96-813a-4af4-ad2f-b8b427338705",
   "metadata": {},
   "outputs": [
    {
     "data": {
      "text/plain": [
       "4"
      ]
     },
     "execution_count": 37,
     "metadata": {},
     "output_type": "execute_result"
    }
   ],
   "source": [
    "#(ii) % : '%' or modulo operator in python is also an arithmetic  opeator and is used for getting the remainder value of division between two variables\n",
    "#example \n",
    "z=24\n",
    "n=5\n",
    "z%n #this will return the remiander of z/n"
   ]
  },
  {
   "cell_type": "code",
   "execution_count": 38,
   "id": "d64d036e-099d-4ed0-8e48-1b34b093c9f4",
   "metadata": {},
   "outputs": [
    {
     "data": {
      "text/plain": [
       "27"
      ]
     },
     "execution_count": 38,
     "metadata": {},
     "output_type": "execute_result"
    }
   ],
   "source": [
    "#(iii) // : '//' also known as 'floor divison' operator is an arithmetic operator and rounds off the result to the nearest integer value of divison between two arguments \n",
    "num1 = 55\n",
    "num2 = 2\n",
    "num1//num2 #this will return the nearest integer value of divison between num1 and num2"
   ]
  },
  {
   "cell_type": "code",
   "execution_count": 39,
   "id": "32d5590e-6ec1-49b2-badb-c2cdec088b10",
   "metadata": {},
   "outputs": [
    {
     "name": "stdout",
     "output_type": "stream",
     "text": [
      "1267650600228229401496703205376\n"
     ]
    }
   ],
   "source": [
    "#(iv) **  : '**' also known as 'exponentiaton operator' is used to return the exponeential value of an argument\n",
    "#example : \n",
    "a = 2**100\n",
    "print(a)"
   ]
  },
  {
   "cell_type": "code",
   "execution_count": 40,
   "id": "87a8ecdd-b4e2-4414-b239-026df3261879",
   "metadata": {},
   "outputs": [],
   "source": [
    "#Q4. Create a list of length 10 of your choice containing multiple types of data. Using for loop print the  element and its data type. "
   ]
  },
  {
   "cell_type": "code",
   "execution_count": 46,
   "id": "43de8acd-f955-4438-97bd-b2480e45eb1c",
   "metadata": {},
   "outputs": [
    {
     "name": "stdout",
     "output_type": "stream",
     "text": [
      "Marlboro <class 'str'>\n",
      "2.9 <class 'float'>\n",
      "73 <class 'int'>\n",
      "True <class 'bool'>\n",
      "SQL <class 'str'>\n",
      "(9, 3.14, 'df') <class 'tuple'>\n",
      "Rohan <class 'str'>\n",
      "99 <class 'int'>\n",
      "99.99 <class 'float'>\n",
      "False <class 'bool'>\n"
     ]
    }
   ],
   "source": [
    "List = ['Marlboro' , 2.900 , 73  , True , 'SQL' , ( 9 , 3.14 ,'df') , 'Rohan' , 99 , 99.99 , False]\n",
    "for element in range(len(List)):\n",
    "    print(List[element],type(List[element]))"
   ]
  },
  {
   "cell_type": "code",
   "execution_count": 47,
   "id": "644a7391-313c-48d8-8e82-afdb6e5b2a5c",
   "metadata": {},
   "outputs": [],
   "source": [
    "#Q5. Using a while loop, verify if the number A is purely divisible by number B and if so then how many times it can be divisible."
   ]
  },
  {
   "cell_type": "code",
   "execution_count": 91,
   "id": "093af588-4b58-4043-b066-9f8e7714cccb",
   "metadata": {},
   "outputs": [
    {
     "name": "stdin",
     "output_type": "stream",
     "text": [
      "Enter number: 55\n",
      "Enter second number : 3\n"
     ]
    },
    {
     "name": "stdout",
     "output_type": "stream",
     "text": [
      "55 is not purely divisible by 3,"
     ]
    }
   ],
   "source": [
    "A=int(input(\"Enter number:\"))\n",
    "B = int(input(\"Enter second number :\"))\n",
    "while(A>0 , B>0) : \n",
    "       if A%B == 0 :\n",
    "        print(A , 'is purely divisible by' , B , A , 'is divisible by', B, 'by', A/B , 'times')\n",
    "        break\n",
    "       else:\n",
    "        print ( A , 'is not purely divisible by' , B, end=',' )\n",
    "        break"
   ]
  },
  {
   "cell_type": "code",
   "execution_count": null,
   "id": "f55753d5-7922-4e76-9ef1-cc8c1464b5aa",
   "metadata": {},
   "outputs": [],
   "source": [
    "#Q6. Create a list containing 25 int type data. Using for loop and if-else condition print if the element is  divisible by 3 or not. \n"
   ]
  },
  {
   "cell_type": "code",
   "execution_count": 93,
   "id": "bb147984-8295-4df6-8e59-35a30352cdd5",
   "metadata": {},
   "outputs": [
    {
     "name": "stdout",
     "output_type": "stream",
     "text": [
      "0 is divisible by 3\n",
      "1 is not divisible by 3\n",
      "2 is not divisible by 3\n",
      "3 is divisible by 3\n",
      "4 is not divisible by 3\n",
      "5 is not divisible by 3\n",
      "6 is divisible by 3\n",
      "7 is not divisible by 3\n",
      "8 is not divisible by 3\n",
      "9 is divisible by 3\n",
      "10 is not divisible by 3\n",
      "11 is not divisible by 3\n",
      "12 is divisible by 3\n",
      "13 is not divisible by 3\n",
      "14 is not divisible by 3\n",
      "15 is divisible by 3\n",
      "16 is not divisible by 3\n",
      "17 is not divisible by 3\n",
      "18 is divisible by 3\n",
      "19 is not divisible by 3\n",
      "20 is not divisible by 3\n",
      "21 is divisible by 3\n",
      "22 is not divisible by 3\n",
      "23 is not divisible by 3\n",
      "24 is divisible by 3\n"
     ]
    }
   ],
   "source": [
    "list1 = [ 23,1,2,5,99, 87 ,69 ,88, 43,56,70,8, 10,11,12,13,35,22,89,32,33,53,54,91,40]\n",
    "len(list1)\n",
    "for element in range(len(list1)):\n",
    "    if element%3 == 0 : \n",
    "        print(element , 'is divisible by 3')\n",
    "        \n",
    "    else : \n",
    "        print(element, 'is not divisible by 3')"
   ]
  },
  {
   "cell_type": "code",
   "execution_count": 94,
   "id": "3a7466cd-bb7b-4f93-8606-36d1d9f8ff76",
   "metadata": {},
   "outputs": [],
   "source": [
    "#Q7. What do you understand about mutable and immutable data types? Give examples for both showing  this property. "
   ]
  },
  {
   "cell_type": "code",
   "execution_count": 96,
   "id": "31310550-7af8-4e33-87b8-33c6ea1173a7",
   "metadata": {},
   "outputs": [
    {
     "name": "stdout",
     "output_type": "stream",
     "text": [
      "[1, 2, 3, 4, 5, 6]\n",
      "[1, 2, 99, 4, 5, 6]\n"
     ]
    }
   ],
   "source": [
    "#'Mutable data types' :  Mutable data types of an object are those data types that can change the value of that object without changing the object’s identity\n",
    "# example : \n",
    "list2 = [1,2,3,4,5,6] #creating a list \n",
    "print(list2)\n",
    "list2[2] = 99\n",
    "print(list2) # the value of the value at index 2 changes"
   ]
  },
  {
   "cell_type": "code",
   "execution_count": 97,
   "id": "662de974-c9e0-40e6-9fb2-5971b5462804",
   "metadata": {},
   "outputs": [
    {
     "name": "stdout",
     "output_type": "stream",
     "text": [
      "('hello', 'Doraemon', 33, 7)\n"
     ]
    },
    {
     "ename": "TypeError",
     "evalue": "'tuple' object does not support item assignment",
     "output_type": "error",
     "traceback": [
      "\u001b[0;31m---------------------------------------------------------------------------\u001b[0m",
      "\u001b[0;31mTypeError\u001b[0m                                 Traceback (most recent call last)",
      "Cell \u001b[0;32mIn[97], line 5\u001b[0m\n\u001b[1;32m      3\u001b[0m tup1 \u001b[38;5;241m=\u001b[39m (\u001b[38;5;124m'\u001b[39m\u001b[38;5;124mhello\u001b[39m\u001b[38;5;124m'\u001b[39m , \u001b[38;5;124m'\u001b[39m\u001b[38;5;124mDoraemon\u001b[39m\u001b[38;5;124m'\u001b[39m , \u001b[38;5;241m33\u001b[39m,\u001b[38;5;241m7\u001b[39m)\n\u001b[1;32m      4\u001b[0m \u001b[38;5;28mprint\u001b[39m(tup1) \u001b[38;5;66;03m# printing a tuple\u001b[39;00m\n\u001b[0;32m----> 5\u001b[0m \u001b[43mtup1\u001b[49m\u001b[43m[\u001b[49m\u001b[38;5;241;43m1\u001b[39;49m\u001b[43m]\u001b[49m \u001b[38;5;241m=\u001b[39m \u001b[38;5;124m'\u001b[39m\u001b[38;5;124mHermoine\u001b[39m\u001b[38;5;124m'\u001b[39m \u001b[38;5;66;03m#modifying a value in the tuple\u001b[39;00m\n\u001b[1;32m      6\u001b[0m \u001b[38;5;28mprint\u001b[39m(tup1) \u001b[38;5;66;03m#gives an error\u001b[39;00m\n",
      "\u001b[0;31mTypeError\u001b[0m: 'tuple' object does not support item assignment"
     ]
    }
   ],
   "source": [
    "#Immutable data types : Immutable datatypes are objects that cannot be modified or altered after they have been created\n",
    "# example : \n",
    "tup1 = ('hello' , 'Doraemon' , 33,7)\n",
    "print(tup1) # printing a tuple\n",
    "tup1[1] = 'Hermoine' #modifying a value in the tuple\n",
    "print(tup1) #gives an error i.e.  'tuple' object does not support item assignment"
   ]
  },
  {
   "cell_type": "code",
   "execution_count": null,
   "id": "567afa17-f4cf-43a7-a767-54915846c39b",
   "metadata": {},
   "outputs": [],
   "source": []
  },
  {
   "cell_type": "code",
   "execution_count": null,
   "id": "ce4c01f2-a9ec-4248-9b96-0bf7d201f7a6",
   "metadata": {},
   "outputs": [],
   "source": []
  }
 ],
 "metadata": {
  "kernelspec": {
   "display_name": "Python 3 (ipykernel)",
   "language": "python",
   "name": "python3"
  },
  "language_info": {
   "codemirror_mode": {
    "name": "ipython",
    "version": 3
   },
   "file_extension": ".py",
   "mimetype": "text/x-python",
   "name": "python",
   "nbconvert_exporter": "python",
   "pygments_lexer": "ipython3",
   "version": "3.10.8"
  }
 },
 "nbformat": 4,
 "nbformat_minor": 5
}
